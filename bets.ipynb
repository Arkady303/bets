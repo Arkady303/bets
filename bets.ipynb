{
 "cells": [
  {
   "cell_type": "code",
   "execution_count": 160,
   "id": "3d734ed1-bb9b-470b-99c4-485c41d065fc",
   "metadata": {},
   "outputs": [],
   "source": [
    "# Импортируем библиотеки\n",
    "import numpy as np\n",
    "import pandas as pd\n",
    "import seaborn as sns\n",
    "import matplotlib.pyplot as plt\n",
    "\n",
    "%matplotlib inline "
   ]
  },
  {
   "cell_type": "markdown",
   "id": "d51164d5-2259-4c45-8435-4f6747f0d084",
   "metadata": {},
   "source": [
    "# Кейс - Анализ пари на спорт"
   ]
  },
  {
   "cell_type": "markdown",
   "id": "0d4c6ce8-49ba-4525-adfb-a0d39a643a92",
   "metadata": {},
   "source": [
    "Я давно веду таблицу с результатами своих пари на спорт, играя по стратегии поиска исходов, на которые букмекером завышен коэффициент (вероятность происхождения события выше, чем считает букмекер)\n",
    "1. Стало интересно проверить гипотезу о том, что пари по моей стратегии выигрывают чаще, чем были бы случайные результаты с вероятностями, выставленными букмекером.\n",
    "2. Также мне интересна вторая гипотеза: ставки на футбол получаются хуже, чем на другие виды спорта. В процессе у меня складывается такое впечатление."
   ]
  },
  {
   "cell_type": "markdown",
   "id": "abd82456-65a9-46e0-ab84-568eed459736",
   "metadata": {},
   "source": [
    "### Загрузка, подготовка данных и EDA"
   ]
  },
  {
   "cell_type": "code",
   "execution_count": 164,
   "id": "49b1c338-81fb-4a4e-9a9a-d6e03f0b95b2",
   "metadata": {},
   "outputs": [
    {
     "data": {
      "text/html": [
       "<div>\n",
       "<style scoped>\n",
       "    .dataframe tbody tr th:only-of-type {\n",
       "        vertical-align: middle;\n",
       "    }\n",
       "\n",
       "    .dataframe tbody tr th {\n",
       "        vertical-align: top;\n",
       "    }\n",
       "\n",
       "    .dataframe thead th {\n",
       "        text-align: right;\n",
       "    }\n",
       "</style>\n",
       "<table border=\"1\" class=\"dataframe\">\n",
       "  <thead>\n",
       "    <tr style=\"text-align: right;\">\n",
       "      <th></th>\n",
       "      <th>размер пари</th>\n",
       "      <th>дата</th>\n",
       "      <th>спорт</th>\n",
       "      <th>соревнования</th>\n",
       "      <th>двойка</th>\n",
       "      <th>тип</th>\n",
       "      <th>тип 2</th>\n",
       "      <th>кэф</th>\n",
       "      <th>проход</th>\n",
       "    </tr>\n",
       "  </thead>\n",
       "  <tbody>\n",
       "    <tr>\n",
       "      <th>0</th>\n",
       "      <td>1</td>\n",
       "      <td>2023-04-22</td>\n",
       "      <td>футбол</td>\n",
       "      <td>франция</td>\n",
       "      <td>1.0</td>\n",
       "      <td>ОЗ</td>\n",
       "      <td>прематч</td>\n",
       "      <td>2.81</td>\n",
       "      <td>0</td>\n",
       "    </tr>\n",
       "    <tr>\n",
       "      <th>1</th>\n",
       "      <td>1</td>\n",
       "      <td>2023-04-22</td>\n",
       "      <td>хоккей</td>\n",
       "      <td>прочее</td>\n",
       "      <td>0.0</td>\n",
       "      <td>Результат</td>\n",
       "      <td>лайв</td>\n",
       "      <td>1.43</td>\n",
       "      <td>1</td>\n",
       "    </tr>\n",
       "    <tr>\n",
       "      <th>2</th>\n",
       "      <td>1</td>\n",
       "      <td>2023-04-22</td>\n",
       "      <td>теннис</td>\n",
       "      <td>мужчины</td>\n",
       "      <td>0.0</td>\n",
       "      <td>Результат</td>\n",
       "      <td>лайв</td>\n",
       "      <td>2.11</td>\n",
       "      <td>1</td>\n",
       "    </tr>\n",
       "    <tr>\n",
       "      <th>3</th>\n",
       "      <td>1</td>\n",
       "      <td>2023-04-22</td>\n",
       "      <td>хоккей</td>\n",
       "      <td>нхл - плоф</td>\n",
       "      <td>0.0</td>\n",
       "      <td>Результат</td>\n",
       "      <td>прематч</td>\n",
       "      <td>2.11</td>\n",
       "      <td>1</td>\n",
       "    </tr>\n",
       "    <tr>\n",
       "      <th>4</th>\n",
       "      <td>1</td>\n",
       "      <td>2023-04-22</td>\n",
       "      <td>футбол</td>\n",
       "      <td>Германия</td>\n",
       "      <td>0.0</td>\n",
       "      <td>Ауты</td>\n",
       "      <td>лайв</td>\n",
       "      <td>1.56</td>\n",
       "      <td>1</td>\n",
       "    </tr>\n",
       "  </tbody>\n",
       "</table>\n",
       "</div>"
      ],
      "text/plain": [
       "  размер пари       дата   спорт соревнования  двойка        тип    тип 2  \\\n",
       "0           1 2023-04-22  футбол      франция     1.0         ОЗ  прематч   \n",
       "1           1 2023-04-22  хоккей       прочее     0.0  Результат     лайв   \n",
       "2           1 2023-04-22  теннис      мужчины     0.0  Результат     лайв   \n",
       "3           1 2023-04-22  хоккей   нхл - плоф     0.0  Результат  прематч   \n",
       "4           1 2023-04-22  футбол     Германия     0.0       Ауты     лайв   \n",
       "\n",
       "    кэф проход  \n",
       "0  2.81      0  \n",
       "1  1.43      1  \n",
       "2  2.11      1  \n",
       "3  2.11      1  \n",
       "4  1.56      1  "
      ]
     },
     "execution_count": 164,
     "metadata": {},
     "output_type": "execute_result"
    }
   ],
   "source": [
    "# Загрузка данных\n",
    "bets = pd.read_excel('bets.xlsx')\n",
    "bets.head()"
   ]
  },
  {
   "cell_type": "code",
   "execution_count": 165,
   "id": "7d1e3064-da49-4233-a7fa-8eec2870fb2d",
   "metadata": {},
   "outputs": [
    {
     "name": "stdout",
     "output_type": "stream",
     "text": [
      "<class 'pandas.core.frame.DataFrame'>\n",
      "RangeIndex: 1320 entries, 0 to 1319\n",
      "Data columns (total 9 columns):\n",
      " #   Column        Non-Null Count  Dtype         \n",
      "---  ------        --------------  -----         \n",
      " 0   размер пари   1314 non-null   object        \n",
      " 1   дата          1319 non-null   datetime64[ns]\n",
      " 2   спорт         1319 non-null   object        \n",
      " 3   соревнования  1303 non-null   object        \n",
      " 4   двойка        1314 non-null   float64       \n",
      " 5   тип           1319 non-null   object        \n",
      " 6   тип 2         1319 non-null   object        \n",
      " 7   кэф           1319 non-null   float64       \n",
      " 8   проход        1314 non-null   object        \n",
      "dtypes: datetime64[ns](1), float64(2), object(6)\n",
      "memory usage: 92.9+ KB\n"
     ]
    }
   ],
   "source": [
    "# инфо о колонках\n",
    "bets.info()"
   ]
  },
  {
   "cell_type": "markdown",
   "id": "ac431348-283b-47cc-9e6e-bc6f648c772c",
   "metadata": {},
   "source": [
    "Видим, что часть колонок с численными значениям имеет строчный формат, что означает, что есть неверно заполненные строки, а также пропуски.    \n",
    "Также названия колонок на русском, переименуем их для удобства работы"
   ]
  },
  {
   "cell_type": "code",
   "execution_count": 167,
   "id": "d9583378-b725-4056-8455-581ff2dbb90d",
   "metadata": {},
   "outputs": [
    {
     "data": {
      "text/html": [
       "<div>\n",
       "<style scoped>\n",
       "    .dataframe tbody tr th:only-of-type {\n",
       "        vertical-align: middle;\n",
       "    }\n",
       "\n",
       "    .dataframe tbody tr th {\n",
       "        vertical-align: top;\n",
       "    }\n",
       "\n",
       "    .dataframe thead th {\n",
       "        text-align: right;\n",
       "    }\n",
       "</style>\n",
       "<table border=\"1\" class=\"dataframe\">\n",
       "  <thead>\n",
       "    <tr style=\"text-align: right;\">\n",
       "      <th></th>\n",
       "      <th>bet</th>\n",
       "      <th>date</th>\n",
       "      <th>sport</th>\n",
       "      <th>competition</th>\n",
       "      <th>twin</th>\n",
       "      <th>type1</th>\n",
       "      <th>type2</th>\n",
       "      <th>coef</th>\n",
       "      <th>result</th>\n",
       "    </tr>\n",
       "  </thead>\n",
       "  <tbody>\n",
       "    <tr>\n",
       "      <th>0</th>\n",
       "      <td>1</td>\n",
       "      <td>2023-04-22</td>\n",
       "      <td>футбол</td>\n",
       "      <td>франция</td>\n",
       "      <td>1.0</td>\n",
       "      <td>ОЗ</td>\n",
       "      <td>прематч</td>\n",
       "      <td>2.81</td>\n",
       "      <td>0</td>\n",
       "    </tr>\n",
       "    <tr>\n",
       "      <th>1</th>\n",
       "      <td>1</td>\n",
       "      <td>2023-04-22</td>\n",
       "      <td>хоккей</td>\n",
       "      <td>прочее</td>\n",
       "      <td>0.0</td>\n",
       "      <td>Результат</td>\n",
       "      <td>лайв</td>\n",
       "      <td>1.43</td>\n",
       "      <td>1</td>\n",
       "    </tr>\n",
       "    <tr>\n",
       "      <th>2</th>\n",
       "      <td>1</td>\n",
       "      <td>2023-04-22</td>\n",
       "      <td>теннис</td>\n",
       "      <td>мужчины</td>\n",
       "      <td>0.0</td>\n",
       "      <td>Результат</td>\n",
       "      <td>лайв</td>\n",
       "      <td>2.11</td>\n",
       "      <td>1</td>\n",
       "    </tr>\n",
       "    <tr>\n",
       "      <th>3</th>\n",
       "      <td>1</td>\n",
       "      <td>2023-04-22</td>\n",
       "      <td>хоккей</td>\n",
       "      <td>нхл - плоф</td>\n",
       "      <td>0.0</td>\n",
       "      <td>Результат</td>\n",
       "      <td>прематч</td>\n",
       "      <td>2.11</td>\n",
       "      <td>1</td>\n",
       "    </tr>\n",
       "    <tr>\n",
       "      <th>4</th>\n",
       "      <td>1</td>\n",
       "      <td>2023-04-22</td>\n",
       "      <td>футбол</td>\n",
       "      <td>Германия</td>\n",
       "      <td>0.0</td>\n",
       "      <td>Ауты</td>\n",
       "      <td>лайв</td>\n",
       "      <td>1.56</td>\n",
       "      <td>1</td>\n",
       "    </tr>\n",
       "  </tbody>\n",
       "</table>\n",
       "</div>"
      ],
      "text/plain": [
       "  bet       date   sport competition  twin      type1    type2  coef result\n",
       "0   1 2023-04-22  футбол     франция   1.0         ОЗ  прематч  2.81      0\n",
       "1   1 2023-04-22  хоккей      прочее   0.0  Результат     лайв  1.43      1\n",
       "2   1 2023-04-22  теннис     мужчины   0.0  Результат     лайв  2.11      1\n",
       "3   1 2023-04-22  хоккей  нхл - плоф   0.0  Результат  прематч  2.11      1\n",
       "4   1 2023-04-22  футбол    Германия   0.0       Ауты     лайв  1.56      1"
      ]
     },
     "execution_count": 167,
     "metadata": {},
     "output_type": "execute_result"
    }
   ],
   "source": [
    "# Переименование колонок\n",
    "names = {'размер пари' : 'bet', 'дата' : 'date', 'спорт' : 'sport',\n",
    "         'соревнования' : 'competition', 'двойка' : 'twin', 'тип' : 'type1', \n",
    "         'тип 2' : 'type2', 'кэф' : \n",
    "         'coef', 'проход' : 'result'}\n",
    "bets = bets.rename(columns=names)\n",
    "bets.head()"
   ]
  },
  {
   "cell_type": "code",
   "execution_count": 168,
   "id": "39e5f7f0-c2a0-47ce-ba55-b912bf34f1f1",
   "metadata": {},
   "outputs": [
    {
     "data": {
      "text/plain": [
       "array(['футбол', 'хоккей', 'теннис', 'Теннис', 'Футбол', 'дота',\n",
       "       'формула 1', 'формула 1 - спринт', 'гандбол', nan, 'волейбол',\n",
       "       'хокккей'], dtype=object)"
      ]
     },
     "execution_count": 168,
     "metadata": {},
     "output_type": "execute_result"
    }
   ],
   "source": [
    "bets.sport.unique()"
   ]
  },
  {
   "cell_type": "code",
   "execution_count": 169,
   "id": "c860457c-05e3-4e74-9480-377856da5452",
   "metadata": {},
   "outputs": [
    {
     "data": {
      "text/plain": [
       "1089"
      ]
     },
     "execution_count": 169,
     "metadata": {},
     "output_type": "execute_result"
    }
   ],
   "source": [
    "# Сколько ставок на футбол\n",
    "bets.query('sport == \"футбол\" or sport == \"Футбол\"').bet.count()"
   ]
  },
  {
   "cell_type": "code",
   "execution_count": 170,
   "id": "265ce469-ca4e-49e5-be44-6a1f4a8f70ef",
   "metadata": {},
   "outputs": [
    {
     "data": {
      "text/plain": [
       "array([0, 1, 'возвр', 'взвр', 0.5, 0.25, nan, 0.75, 0.8, 0.2, 0.4, 0.6,\n",
       "       0.7, 0.3], dtype=object)"
      ]
     },
     "execution_count": 170,
     "metadata": {},
     "output_type": "execute_result"
    }
   ],
   "source": [
    "# просмотр уникальных значений в графе размер ставки\n",
    "bets.result.unique()"
   ]
  },
  {
   "cell_type": "markdown",
   "id": "030a5fa7-b0e6-4e1f-8a5b-b4f794fb9e99",
   "metadata": {},
   "source": [
    "Есть нечисловые значения, а также пропуски, нужно их убрать"
   ]
  },
  {
   "cell_type": "code",
   "execution_count": 172,
   "id": "bdd2a08f-898b-4269-b82d-a535519430ae",
   "metadata": {},
   "outputs": [],
   "source": [
    "# Убираем все неверно заполненные строки\n",
    "bets = bets.drop(bets[bets['result'] == 'возвр'].index)\n",
    "bets = bets.drop(bets[bets['result'] == 'взвр'].index)\n",
    "bets = bets.dropna()"
   ]
  },
  {
   "cell_type": "code",
   "execution_count": 173,
   "id": "7567e67b-e884-4475-8c36-b10df861d3a4",
   "metadata": {},
   "outputs": [],
   "source": [
    "# Меняем формат столбик на числовой\n",
    "bets['bet'] = bets['bet'].astype(float)\n",
    "bets['result'] = bets['result'].astype(float)"
   ]
  },
  {
   "cell_type": "code",
   "execution_count": 174,
   "id": "3e618c05-8917-49bc-bee7-21f719dae010",
   "metadata": {},
   "outputs": [
    {
     "name": "stdout",
     "output_type": "stream",
     "text": [
      "<class 'pandas.core.frame.DataFrame'>\n",
      "Index: 1214 entries, 0 to 1319\n",
      "Data columns (total 9 columns):\n",
      " #   Column       Non-Null Count  Dtype         \n",
      "---  ------       --------------  -----         \n",
      " 0   bet          1214 non-null   float64       \n",
      " 1   date         1214 non-null   datetime64[ns]\n",
      " 2   sport        1214 non-null   object        \n",
      " 3   competition  1214 non-null   object        \n",
      " 4   twin         1214 non-null   float64       \n",
      " 5   type1        1214 non-null   object        \n",
      " 6   type2        1214 non-null   object        \n",
      " 7   coef         1214 non-null   float64       \n",
      " 8   result       1214 non-null   float64       \n",
      "dtypes: datetime64[ns](1), float64(4), object(4)\n",
      "memory usage: 94.8+ KB\n"
     ]
    }
   ],
   "source": [
    "bets.info()"
   ]
  },
  {
   "cell_type": "markdown",
   "id": "df54c958-8952-414b-9107-88c6a3241812",
   "metadata": {},
   "source": [
    "### Создание нужных колонок для анализа"
   ]
  },
  {
   "cell_type": "markdown",
   "id": "53c0d8b5-1d8c-407f-acd7-efc445fecbc0",
   "metadata": {},
   "source": [
    "Результаты также показаны по размеру ставки, для верного расчета в дальнейшем нам надо заменить данные в этом столбике на формат:\\\n",
    "1 - выигрыш пари\\\n",
    "0 - проигрыш пари"
   ]
  },
  {
   "cell_type": "code",
   "execution_count": 177,
   "id": "3b516200-b8d5-41f2-9345-cb165c12cbe8",
   "metadata": {},
   "outputs": [],
   "source": [
    "results = list(bets['result'].unique())"
   ]
  },
  {
   "cell_type": "code",
   "execution_count": 178,
   "id": "bc58d94c-433a-4c26-8580-c3d083c46350",
   "metadata": {},
   "outputs": [],
   "source": [
    "# Заменяем значения в ячейках с неверным заполнением\n",
    "for r in results:\n",
    "    if 0 < r < 1:\n",
    "        bets['result'] = bets['result'].replace(r, 1)"
   ]
  },
  {
   "cell_type": "code",
   "execution_count": 179,
   "id": "1dd40c46-f000-4584-9331-08f02e5ce269",
   "metadata": {},
   "outputs": [
    {
     "data": {
      "text/plain": [
       "array([0., 1.])"
      ]
     },
     "execution_count": 179,
     "metadata": {},
     "output_type": "execute_result"
    }
   ],
   "source": [
    "# Проверяем данные\n",
    "bets['result'].unique()"
   ]
  },
  {
   "cell_type": "markdown",
   "id": "ff90bc60-f747-451d-8396-9a1fd79360c1",
   "metadata": {},
   "source": [
    "Расчет колонки с суммой реального выигрыша/проигрыша. Возьмем для удобства расчетов единичную ставку за 1000 руб. \\\n",
    "Для расчета нам надо: размер ставки * 1000 * коэф * результат - 1000 * размер ставки"
   ]
  },
  {
   "cell_type": "code",
   "execution_count": 181,
   "id": "5f56e8e7-dda6-4716-bf47-538881aeb609",
   "metadata": {},
   "outputs": [
    {
     "data": {
      "text/html": [
       "<div>\n",
       "<style scoped>\n",
       "    .dataframe tbody tr th:only-of-type {\n",
       "        vertical-align: middle;\n",
       "    }\n",
       "\n",
       "    .dataframe tbody tr th {\n",
       "        vertical-align: top;\n",
       "    }\n",
       "\n",
       "    .dataframe thead th {\n",
       "        text-align: right;\n",
       "    }\n",
       "</style>\n",
       "<table border=\"1\" class=\"dataframe\">\n",
       "  <thead>\n",
       "    <tr style=\"text-align: right;\">\n",
       "      <th></th>\n",
       "      <th>bet</th>\n",
       "      <th>date</th>\n",
       "      <th>sport</th>\n",
       "      <th>competition</th>\n",
       "      <th>twin</th>\n",
       "      <th>type1</th>\n",
       "      <th>type2</th>\n",
       "      <th>coef</th>\n",
       "      <th>result</th>\n",
       "      <th>win</th>\n",
       "    </tr>\n",
       "  </thead>\n",
       "  <tbody>\n",
       "    <tr>\n",
       "      <th>0</th>\n",
       "      <td>1.0</td>\n",
       "      <td>2023-04-22</td>\n",
       "      <td>футбол</td>\n",
       "      <td>франция</td>\n",
       "      <td>1.0</td>\n",
       "      <td>ОЗ</td>\n",
       "      <td>прематч</td>\n",
       "      <td>2.81</td>\n",
       "      <td>0.0</td>\n",
       "      <td>-1000.0</td>\n",
       "    </tr>\n",
       "    <tr>\n",
       "      <th>1</th>\n",
       "      <td>1.0</td>\n",
       "      <td>2023-04-22</td>\n",
       "      <td>хоккей</td>\n",
       "      <td>прочее</td>\n",
       "      <td>0.0</td>\n",
       "      <td>Результат</td>\n",
       "      <td>лайв</td>\n",
       "      <td>1.43</td>\n",
       "      <td>1.0</td>\n",
       "      <td>430.0</td>\n",
       "    </tr>\n",
       "    <tr>\n",
       "      <th>2</th>\n",
       "      <td>1.0</td>\n",
       "      <td>2023-04-22</td>\n",
       "      <td>теннис</td>\n",
       "      <td>мужчины</td>\n",
       "      <td>0.0</td>\n",
       "      <td>Результат</td>\n",
       "      <td>лайв</td>\n",
       "      <td>2.11</td>\n",
       "      <td>1.0</td>\n",
       "      <td>1110.0</td>\n",
       "    </tr>\n",
       "    <tr>\n",
       "      <th>3</th>\n",
       "      <td>1.0</td>\n",
       "      <td>2023-04-22</td>\n",
       "      <td>хоккей</td>\n",
       "      <td>нхл - плоф</td>\n",
       "      <td>0.0</td>\n",
       "      <td>Результат</td>\n",
       "      <td>прематч</td>\n",
       "      <td>2.11</td>\n",
       "      <td>1.0</td>\n",
       "      <td>1110.0</td>\n",
       "    </tr>\n",
       "    <tr>\n",
       "      <th>4</th>\n",
       "      <td>1.0</td>\n",
       "      <td>2023-04-22</td>\n",
       "      <td>футбол</td>\n",
       "      <td>Германия</td>\n",
       "      <td>0.0</td>\n",
       "      <td>Ауты</td>\n",
       "      <td>лайв</td>\n",
       "      <td>1.56</td>\n",
       "      <td>1.0</td>\n",
       "      <td>560.0</td>\n",
       "    </tr>\n",
       "  </tbody>\n",
       "</table>\n",
       "</div>"
      ],
      "text/plain": [
       "   bet       date   sport competition  twin      type1    type2  coef  result  \\\n",
       "0  1.0 2023-04-22  футбол     франция   1.0         ОЗ  прематч  2.81     0.0   \n",
       "1  1.0 2023-04-22  хоккей      прочее   0.0  Результат     лайв  1.43     1.0   \n",
       "2  1.0 2023-04-22  теннис     мужчины   0.0  Результат     лайв  2.11     1.0   \n",
       "3  1.0 2023-04-22  хоккей  нхл - плоф   0.0  Результат  прематч  2.11     1.0   \n",
       "4  1.0 2023-04-22  футбол    Германия   0.0       Ауты     лайв  1.56     1.0   \n",
       "\n",
       "      win  \n",
       "0 -1000.0  \n",
       "1   430.0  \n",
       "2  1110.0  \n",
       "3  1110.0  \n",
       "4   560.0  "
      ]
     },
     "execution_count": 181,
     "metadata": {},
     "output_type": "execute_result"
    }
   ],
   "source": [
    "# расчет по формуле и проверка данных\n",
    "bets['win'] = bets.bet * 1000 * bets.coef * bets.result - 1000 * bets.bet\n",
    "bets.head()"
   ]
  },
  {
   "cell_type": "markdown",
   "id": "71270e95-0877-4362-9533-f977efed1128",
   "metadata": {},
   "source": [
    "Расчет колонки с суммой случайного выигрыша/проигрыша согласно вероятности: \\\n",
    "Для этого нам надо создать колонку с вероятностью выигрыша: она будет равна вероятности по коэффициенту за минусом маржи букмекера (для удобства расчета будем считать, что букмекер в среднем выставляет коэффициент на 5% ниже рассчитанной им вероятности) \\\n",
    "Затем по этой вероятности будет расчитываться вероятность выигрыша или проигрыша каждого пари и случайный результат согласно этой вероятности будет вноситься в таблицу"
   ]
  },
  {
   "cell_type": "code",
   "execution_count": 183,
   "id": "51e58695-874b-460c-885b-73337f1f2089",
   "metadata": {},
   "outputs": [
    {
     "data": {
      "text/html": [
       "<div>\n",
       "<style scoped>\n",
       "    .dataframe tbody tr th:only-of-type {\n",
       "        vertical-align: middle;\n",
       "    }\n",
       "\n",
       "    .dataframe tbody tr th {\n",
       "        vertical-align: top;\n",
       "    }\n",
       "\n",
       "    .dataframe thead th {\n",
       "        text-align: right;\n",
       "    }\n",
       "</style>\n",
       "<table border=\"1\" class=\"dataframe\">\n",
       "  <thead>\n",
       "    <tr style=\"text-align: right;\">\n",
       "      <th></th>\n",
       "      <th>bet</th>\n",
       "      <th>date</th>\n",
       "      <th>sport</th>\n",
       "      <th>competition</th>\n",
       "      <th>twin</th>\n",
       "      <th>type1</th>\n",
       "      <th>type2</th>\n",
       "      <th>coef</th>\n",
       "      <th>result</th>\n",
       "      <th>win</th>\n",
       "      <th>prob</th>\n",
       "    </tr>\n",
       "  </thead>\n",
       "  <tbody>\n",
       "    <tr>\n",
       "      <th>0</th>\n",
       "      <td>1.0</td>\n",
       "      <td>2023-04-22</td>\n",
       "      <td>футбол</td>\n",
       "      <td>франция</td>\n",
       "      <td>1.0</td>\n",
       "      <td>ОЗ</td>\n",
       "      <td>прематч</td>\n",
       "      <td>2.81</td>\n",
       "      <td>0.0</td>\n",
       "      <td>-1000.0</td>\n",
       "      <td>0.305872</td>\n",
       "    </tr>\n",
       "    <tr>\n",
       "      <th>1</th>\n",
       "      <td>1.0</td>\n",
       "      <td>2023-04-22</td>\n",
       "      <td>хоккей</td>\n",
       "      <td>прочее</td>\n",
       "      <td>0.0</td>\n",
       "      <td>Результат</td>\n",
       "      <td>лайв</td>\n",
       "      <td>1.43</td>\n",
       "      <td>1.0</td>\n",
       "      <td>430.0</td>\n",
       "      <td>0.649301</td>\n",
       "    </tr>\n",
       "    <tr>\n",
       "      <th>2</th>\n",
       "      <td>1.0</td>\n",
       "      <td>2023-04-22</td>\n",
       "      <td>теннис</td>\n",
       "      <td>мужчины</td>\n",
       "      <td>0.0</td>\n",
       "      <td>Результат</td>\n",
       "      <td>лайв</td>\n",
       "      <td>2.11</td>\n",
       "      <td>1.0</td>\n",
       "      <td>1110.0</td>\n",
       "      <td>0.423934</td>\n",
       "    </tr>\n",
       "    <tr>\n",
       "      <th>3</th>\n",
       "      <td>1.0</td>\n",
       "      <td>2023-04-22</td>\n",
       "      <td>хоккей</td>\n",
       "      <td>нхл - плоф</td>\n",
       "      <td>0.0</td>\n",
       "      <td>Результат</td>\n",
       "      <td>прематч</td>\n",
       "      <td>2.11</td>\n",
       "      <td>1.0</td>\n",
       "      <td>1110.0</td>\n",
       "      <td>0.423934</td>\n",
       "    </tr>\n",
       "    <tr>\n",
       "      <th>4</th>\n",
       "      <td>1.0</td>\n",
       "      <td>2023-04-22</td>\n",
       "      <td>футбол</td>\n",
       "      <td>Германия</td>\n",
       "      <td>0.0</td>\n",
       "      <td>Ауты</td>\n",
       "      <td>лайв</td>\n",
       "      <td>1.56</td>\n",
       "      <td>1.0</td>\n",
       "      <td>560.0</td>\n",
       "      <td>0.591026</td>\n",
       "    </tr>\n",
       "  </tbody>\n",
       "</table>\n",
       "</div>"
      ],
      "text/plain": [
       "   bet       date   sport competition  twin      type1    type2  coef  result  \\\n",
       "0  1.0 2023-04-22  футбол     франция   1.0         ОЗ  прематч  2.81     0.0   \n",
       "1  1.0 2023-04-22  хоккей      прочее   0.0  Результат     лайв  1.43     1.0   \n",
       "2  1.0 2023-04-22  теннис     мужчины   0.0  Результат     лайв  2.11     1.0   \n",
       "3  1.0 2023-04-22  хоккей  нхл - плоф   0.0  Результат  прематч  2.11     1.0   \n",
       "4  1.0 2023-04-22  футбол    Германия   0.0       Ауты     лайв  1.56     1.0   \n",
       "\n",
       "      win      prob  \n",
       "0 -1000.0  0.305872  \n",
       "1   430.0  0.649301  \n",
       "2  1110.0  0.423934  \n",
       "3  1110.0  0.423934  \n",
       "4   560.0  0.591026  "
      ]
     },
     "execution_count": 183,
     "metadata": {},
     "output_type": "execute_result"
    }
   ],
   "source": [
    "# Расчет вероятности выигрыша по каждой строке\n",
    "bets['prob'] = 1 / bets.coef - 0.05\n",
    "bets.head()"
   ]
  },
  {
   "cell_type": "code",
   "execution_count": 184,
   "id": "94d048db-1f1d-4428-8dbd-3f8a5eed6fa1",
   "metadata": {},
   "outputs": [
    {
     "data": {
      "text/html": [
       "<div>\n",
       "<style scoped>\n",
       "    .dataframe tbody tr th:only-of-type {\n",
       "        vertical-align: middle;\n",
       "    }\n",
       "\n",
       "    .dataframe tbody tr th {\n",
       "        vertical-align: top;\n",
       "    }\n",
       "\n",
       "    .dataframe thead th {\n",
       "        text-align: right;\n",
       "    }\n",
       "</style>\n",
       "<table border=\"1\" class=\"dataframe\">\n",
       "  <thead>\n",
       "    <tr style=\"text-align: right;\">\n",
       "      <th></th>\n",
       "      <th>bet</th>\n",
       "      <th>date</th>\n",
       "      <th>sport</th>\n",
       "      <th>competition</th>\n",
       "      <th>twin</th>\n",
       "      <th>type1</th>\n",
       "      <th>type2</th>\n",
       "      <th>coef</th>\n",
       "      <th>result</th>\n",
       "      <th>win</th>\n",
       "      <th>prob</th>\n",
       "      <th>pot_win</th>\n",
       "    </tr>\n",
       "  </thead>\n",
       "  <tbody>\n",
       "    <tr>\n",
       "      <th>0</th>\n",
       "      <td>1.0</td>\n",
       "      <td>2023-04-22</td>\n",
       "      <td>футбол</td>\n",
       "      <td>франция</td>\n",
       "      <td>1.0</td>\n",
       "      <td>ОЗ</td>\n",
       "      <td>прематч</td>\n",
       "      <td>2.81</td>\n",
       "      <td>0.0</td>\n",
       "      <td>-1000.0</td>\n",
       "      <td>0.305872</td>\n",
       "      <td>1810.0</td>\n",
       "    </tr>\n",
       "    <tr>\n",
       "      <th>1</th>\n",
       "      <td>1.0</td>\n",
       "      <td>2023-04-22</td>\n",
       "      <td>хоккей</td>\n",
       "      <td>прочее</td>\n",
       "      <td>0.0</td>\n",
       "      <td>Результат</td>\n",
       "      <td>лайв</td>\n",
       "      <td>1.43</td>\n",
       "      <td>1.0</td>\n",
       "      <td>430.0</td>\n",
       "      <td>0.649301</td>\n",
       "      <td>430.0</td>\n",
       "    </tr>\n",
       "    <tr>\n",
       "      <th>2</th>\n",
       "      <td>1.0</td>\n",
       "      <td>2023-04-22</td>\n",
       "      <td>теннис</td>\n",
       "      <td>мужчины</td>\n",
       "      <td>0.0</td>\n",
       "      <td>Результат</td>\n",
       "      <td>лайв</td>\n",
       "      <td>2.11</td>\n",
       "      <td>1.0</td>\n",
       "      <td>1110.0</td>\n",
       "      <td>0.423934</td>\n",
       "      <td>1110.0</td>\n",
       "    </tr>\n",
       "    <tr>\n",
       "      <th>3</th>\n",
       "      <td>1.0</td>\n",
       "      <td>2023-04-22</td>\n",
       "      <td>хоккей</td>\n",
       "      <td>нхл - плоф</td>\n",
       "      <td>0.0</td>\n",
       "      <td>Результат</td>\n",
       "      <td>прематч</td>\n",
       "      <td>2.11</td>\n",
       "      <td>1.0</td>\n",
       "      <td>1110.0</td>\n",
       "      <td>0.423934</td>\n",
       "      <td>1110.0</td>\n",
       "    </tr>\n",
       "    <tr>\n",
       "      <th>4</th>\n",
       "      <td>1.0</td>\n",
       "      <td>2023-04-22</td>\n",
       "      <td>футбол</td>\n",
       "      <td>Германия</td>\n",
       "      <td>0.0</td>\n",
       "      <td>Ауты</td>\n",
       "      <td>лайв</td>\n",
       "      <td>1.56</td>\n",
       "      <td>1.0</td>\n",
       "      <td>560.0</td>\n",
       "      <td>0.591026</td>\n",
       "      <td>560.0</td>\n",
       "    </tr>\n",
       "  </tbody>\n",
       "</table>\n",
       "</div>"
      ],
      "text/plain": [
       "   bet       date   sport competition  twin      type1    type2  coef  result  \\\n",
       "0  1.0 2023-04-22  футбол     франция   1.0         ОЗ  прематч  2.81     0.0   \n",
       "1  1.0 2023-04-22  хоккей      прочее   0.0  Результат     лайв  1.43     1.0   \n",
       "2  1.0 2023-04-22  теннис     мужчины   0.0  Результат     лайв  2.11     1.0   \n",
       "3  1.0 2023-04-22  хоккей  нхл - плоф   0.0  Результат  прематч  2.11     1.0   \n",
       "4  1.0 2023-04-22  футбол    Германия   0.0       Ауты     лайв  1.56     1.0   \n",
       "\n",
       "      win      prob  pot_win  \n",
       "0 -1000.0  0.305872   1810.0  \n",
       "1   430.0  0.649301    430.0  \n",
       "2  1110.0  0.423934   1110.0  \n",
       "3  1110.0  0.423934   1110.0  \n",
       "4   560.0  0.591026    560.0  "
      ]
     },
     "execution_count": 184,
     "metadata": {},
     "output_type": "execute_result"
    }
   ],
   "source": [
    "# Колонка с потенциальным выигрышем по каждой строке для дальнейшего расчета\n",
    "bets['pot_win'] = bets.bet * 1000 * bets.coef - 1000 * bets.bet\n",
    "bets.head()"
   ]
  },
  {
   "cell_type": "code",
   "execution_count": 185,
   "id": "98bbc22a-f1a2-485c-abd8-b5ec030c648b",
   "metadata": {},
   "outputs": [
    {
     "data": {
      "text/html": [
       "<div>\n",
       "<style scoped>\n",
       "    .dataframe tbody tr th:only-of-type {\n",
       "        vertical-align: middle;\n",
       "    }\n",
       "\n",
       "    .dataframe tbody tr th {\n",
       "        vertical-align: top;\n",
       "    }\n",
       "\n",
       "    .dataframe thead th {\n",
       "        text-align: right;\n",
       "    }\n",
       "</style>\n",
       "<table border=\"1\" class=\"dataframe\">\n",
       "  <thead>\n",
       "    <tr style=\"text-align: right;\">\n",
       "      <th></th>\n",
       "      <th>bet</th>\n",
       "      <th>date</th>\n",
       "      <th>sport</th>\n",
       "      <th>competition</th>\n",
       "      <th>twin</th>\n",
       "      <th>type1</th>\n",
       "      <th>type2</th>\n",
       "      <th>coef</th>\n",
       "      <th>result</th>\n",
       "      <th>win</th>\n",
       "      <th>prob</th>\n",
       "      <th>pot_win</th>\n",
       "      <th>win_random</th>\n",
       "    </tr>\n",
       "  </thead>\n",
       "  <tbody>\n",
       "    <tr>\n",
       "      <th>0</th>\n",
       "      <td>1.0</td>\n",
       "      <td>2023-04-22</td>\n",
       "      <td>футбол</td>\n",
       "      <td>франция</td>\n",
       "      <td>1.0</td>\n",
       "      <td>ОЗ</td>\n",
       "      <td>прематч</td>\n",
       "      <td>2.81</td>\n",
       "      <td>0.0</td>\n",
       "      <td>-1000.0</td>\n",
       "      <td>0.305872</td>\n",
       "      <td>1810.0</td>\n",
       "      <td>1810.0</td>\n",
       "    </tr>\n",
       "    <tr>\n",
       "      <th>1</th>\n",
       "      <td>1.0</td>\n",
       "      <td>2023-04-22</td>\n",
       "      <td>хоккей</td>\n",
       "      <td>прочее</td>\n",
       "      <td>0.0</td>\n",
       "      <td>Результат</td>\n",
       "      <td>лайв</td>\n",
       "      <td>1.43</td>\n",
       "      <td>1.0</td>\n",
       "      <td>430.0</td>\n",
       "      <td>0.649301</td>\n",
       "      <td>430.0</td>\n",
       "      <td>430.0</td>\n",
       "    </tr>\n",
       "    <tr>\n",
       "      <th>2</th>\n",
       "      <td>1.0</td>\n",
       "      <td>2023-04-22</td>\n",
       "      <td>теннис</td>\n",
       "      <td>мужчины</td>\n",
       "      <td>0.0</td>\n",
       "      <td>Результат</td>\n",
       "      <td>лайв</td>\n",
       "      <td>2.11</td>\n",
       "      <td>1.0</td>\n",
       "      <td>1110.0</td>\n",
       "      <td>0.423934</td>\n",
       "      <td>1110.0</td>\n",
       "      <td>-1000.0</td>\n",
       "    </tr>\n",
       "    <tr>\n",
       "      <th>3</th>\n",
       "      <td>1.0</td>\n",
       "      <td>2023-04-22</td>\n",
       "      <td>хоккей</td>\n",
       "      <td>нхл - плоф</td>\n",
       "      <td>0.0</td>\n",
       "      <td>Результат</td>\n",
       "      <td>прематч</td>\n",
       "      <td>2.11</td>\n",
       "      <td>1.0</td>\n",
       "      <td>1110.0</td>\n",
       "      <td>0.423934</td>\n",
       "      <td>1110.0</td>\n",
       "      <td>1110.0</td>\n",
       "    </tr>\n",
       "    <tr>\n",
       "      <th>4</th>\n",
       "      <td>1.0</td>\n",
       "      <td>2023-04-22</td>\n",
       "      <td>футбол</td>\n",
       "      <td>Германия</td>\n",
       "      <td>0.0</td>\n",
       "      <td>Ауты</td>\n",
       "      <td>лайв</td>\n",
       "      <td>1.56</td>\n",
       "      <td>1.0</td>\n",
       "      <td>560.0</td>\n",
       "      <td>0.591026</td>\n",
       "      <td>560.0</td>\n",
       "      <td>-1000.0</td>\n",
       "    </tr>\n",
       "  </tbody>\n",
       "</table>\n",
       "</div>"
      ],
      "text/plain": [
       "   bet       date   sport competition  twin      type1    type2  coef  result  \\\n",
       "0  1.0 2023-04-22  футбол     франция   1.0         ОЗ  прематч  2.81     0.0   \n",
       "1  1.0 2023-04-22  хоккей      прочее   0.0  Результат     лайв  1.43     1.0   \n",
       "2  1.0 2023-04-22  теннис     мужчины   0.0  Результат     лайв  2.11     1.0   \n",
       "3  1.0 2023-04-22  хоккей  нхл - плоф   0.0  Результат  прематч  2.11     1.0   \n",
       "4  1.0 2023-04-22  футбол    Германия   0.0       Ауты     лайв  1.56     1.0   \n",
       "\n",
       "      win      prob  pot_win  win_random  \n",
       "0 -1000.0  0.305872   1810.0      1810.0  \n",
       "1   430.0  0.649301    430.0       430.0  \n",
       "2  1110.0  0.423934   1110.0     -1000.0  \n",
       "3  1110.0  0.423934   1110.0      1110.0  \n",
       "4   560.0  0.591026    560.0     -1000.0  "
      ]
     },
     "execution_count": 185,
     "metadata": {},
     "output_type": "execute_result"
    }
   ],
   "source": [
    "# Создание колонки со случайным результатом согласно рассчитаным ранее вероятностям\n",
    "bets['win_random'] = bets.apply(lambda row: row['pot_win'] if np.random.rand() < row['prob'] else -1000*row['bet'], axis=1)\n",
    "bets.head()"
   ]
  },
  {
   "cell_type": "markdown",
   "id": "43f44869-d547-49f2-bc93-c212f3949b84",
   "metadata": {},
   "source": [
    "Целевые колонки созданы, можно переходить к статистическому анализу"
   ]
  },
  {
   "cell_type": "markdown",
   "id": "67b30659-4df9-4fa5-a3b3-5fdd74391a3e",
   "metadata": {},
   "source": [
    "### Визуализация данных и сравнение данных"
   ]
  },
  {
   "cell_type": "markdown",
   "id": "bdf8a991-42ef-4f0d-beea-64f4cf8fd867",
   "metadata": {},
   "source": [
    "Сначала можем просто посмотреть суммы в рублях по результатам реальных пари и случайно сгенерированных"
   ]
  },
  {
   "cell_type": "code",
   "execution_count": 189,
   "id": "dac99c3a-4f52-4d0a-92ad-cbe46d9a0c4c",
   "metadata": {},
   "outputs": [
    {
     "data": {
      "text/plain": [
       "16826.5"
      ]
     },
     "execution_count": 189,
     "metadata": {},
     "output_type": "execute_result"
    }
   ],
   "source": [
    "bets['win'].sum()"
   ]
  },
  {
   "cell_type": "code",
   "execution_count": 190,
   "id": "0eb4675b-4455-4c80-8197-afcc71152896",
   "metadata": {},
   "outputs": [
    {
     "data": {
      "text/plain": [
       "-127768.0"
      ]
     },
     "execution_count": 190,
     "metadata": {},
     "output_type": "execute_result"
    }
   ],
   "source": [
    "bets['win_random'].sum()"
   ]
  },
  {
   "cell_type": "markdown",
   "id": "9e3233a0-77e9-40f0-97d0-8eb4d7b6b12d",
   "metadata": {},
   "source": [
    "Видно, что реальные результаты лучше, но являются ли эта разница статистически значимой?"
   ]
  },
  {
   "cell_type": "markdown",
   "id": "c1f5ec26-75d8-440d-a15d-89bb66424124",
   "metadata": {},
   "source": [
    "Описательные статистики"
   ]
  },
  {
   "cell_type": "code",
   "execution_count": 193,
   "id": "6a2755d1-b340-4100-b332-f06df894f49b",
   "metadata": {},
   "outputs": [
    {
     "data": {
      "text/plain": [
       "count    1214.000000\n",
       "mean     -105.245470\n",
       "std       820.312877\n",
       "min     -1200.000000\n",
       "25%     -1000.000000\n",
       "50%      -200.000000\n",
       "75%       680.000000\n",
       "max      2050.000000\n",
       "Name: win_random, dtype: float64"
      ]
     },
     "execution_count": 193,
     "metadata": {},
     "output_type": "execute_result"
    }
   ],
   "source": [
    "bets['win_random'].describe()"
   ]
  },
  {
   "cell_type": "code",
   "execution_count": 194,
   "id": "a3e2cd68-b0a9-4f24-bef1-1d4cbbc4ee9c",
   "metadata": {},
   "outputs": [
    {
     "data": {
      "text/plain": [
       "count    1214.000000\n",
       "mean       13.860379\n",
       "std       817.925884\n",
       "min     -1200.000000\n",
       "25%     -1000.000000\n",
       "50%       385.000000\n",
       "75%       720.000000\n",
       "max      2900.000000\n",
       "Name: win, dtype: float64"
      ]
     },
     "execution_count": 194,
     "metadata": {},
     "output_type": "execute_result"
    }
   ],
   "source": [
    "bets['win'].describe()"
   ]
  },
  {
   "cell_type": "markdown",
   "id": "2cfb5ec2-66a7-4a15-bba0-0d5168b2f866",
   "metadata": {},
   "source": [
    "Визуализация"
   ]
  },
  {
   "cell_type": "code",
   "execution_count": 196,
   "id": "b6b76ae0-10cd-4180-aef4-15276d8b12a8",
   "metadata": {},
   "outputs": [
    {
     "data": {
      "image/png": "[encoded data removed]",
      "text/plain": [
       "<Figure size 500x500 with 1 Axes>"
      ]
     },
     "metadata": {},
     "output_type": "display_data"
    }
   ],
   "source": [
    "sns.displot(data=bets['win'])\n",
    "plt.show()"
   ]
  },
  {
   "cell_type": "code",
   "execution_count": 197,
   "id": "f1b5c003-895a-4c34-b587-fbff5e672673",
   "metadata": {},
   "outputs": [
    {
     "data": {
      "image/png": "[encoded data removed]",
      "text/plain": [
       "<Figure size 500x500 with 1 Axes>"
      ]
     },
     "metadata": {},
     "output_type": "display_data"
    }
   ],
   "source": [
    "sns.displot(data=bets['win_random'])\n",
    "plt.show()"
   ]
  },
  {
   "cell_type": "markdown",
   "id": "5247c0a4-81d4-4615-8ced-3e2969b44329",
   "metadata": {},
   "source": [
    "По графикам также видно что левый хвост у случайных резульатов больше, а правый с выигрышами меньше"
   ]
  },
  {
   "cell_type": "markdown",
   "id": "02afa254-aca7-4740-9c08-50462c056fe6",
   "metadata": {},
   "source": [
    "### Выбор теста"
   ]
  },
  {
   "cell_type": "markdown",
   "id": "bbac1bf7-6080-427a-9c65-6b1674d047da",
   "metadata": {},
   "source": [
    "Сравнивать мы будем средние, так как медианы будут одинаковыми у обеих групп. Наши данные, очевидно, зависимы, так как пари выполнялись одним человеком, поэтому Т-тест мы отбрасывам, а вот Bootstrap может справиться с задачей."
   ]
  },
  {
   "cell_type": "markdown",
   "id": "fd879179-520d-4078-b552-fe9a7482db0d",
   "metadata": {},
   "source": [
    "В этом тесте мы будем смотреть 0,025 и 0,975 квантили на предмет наличия в них нуля. В случае если ноль будет включен в 95% доверительный интервал, то мы принимаем нулевую гипотезу о равенстве средних в случае же если нет, то мы можем принять альтернавтивную гипотезу"
   ]
  },
  {
   "cell_type": "markdown",
   "id": "0219bfb0-295d-4a41-a88e-3ace3c87d89f",
   "metadata": {},
   "source": [
    "## Сравнение средних случайных результатов с фактическими результатами"
   ]
  },
  {
   "cell_type": "code",
   "execution_count": 203,
   "id": "ae2c071a-b972-464d-8634-cd3382fa94d6",
   "metadata": {},
   "outputs": [],
   "source": [
    "mean_diff = []\n",
    "\n",
    "for i in range(10000):\n",
    "    sample_data_control = bets['win_random'].sample(frac=1, replace=True)\n",
    "    sample_mean_control = sample_data_control.mean()\n",
    "    \n",
    "    \n",
    "    sample_data_exp = bets['win'].sample(frac=1, replace=True)\n",
    "    sample_mean_exp = sample_data_exp.mean()\n",
    "    \n",
    "    sample_mean_diff = sample_mean_exp - sample_mean_control\n",
    "    mean_diff.append(sample_mean_diff)"
   ]
  },
  {
   "cell_type": "code",
   "execution_count": 204,
   "id": "83f25433-0563-4aac-8943-85b0d6ab01b1",
   "metadata": {},
   "outputs": [
    {
     "data": {
      "image/png": "[encoded data removed]",
      "text/plain": [
       "<Figure size 500x500 with 1 Axes>"
      ]
     },
     "metadata": {},
     "output_type": "display_data"
    }
   ],
   "source": [
    "# Распределение средних на графике\n",
    "sns.displot(mean_diff)\n",
    "plt.show()"
   ]
  },
  {
   "cell_type": "markdown",
   "id": "a8af4da8-bd06-4e7d-a322-c9062a26c235",
   "metadata": {},
   "source": [
    "Квантили"
   ]
  },
  {
   "cell_type": "code",
   "execution_count": 206,
   "id": "8f1a6840-f770-49a5-b307-dccca666fcb0",
   "metadata": {},
   "outputs": [
    {
     "data": {
      "text/plain": [
       "185.14258649093904"
      ]
     },
     "execution_count": 206,
     "metadata": {},
     "output_type": "execute_result"
    }
   ],
   "source": [
    "pd.Series(mean_diff).quantile(0.975)"
   ]
  },
  {
   "cell_type": "code",
   "execution_count": 207,
   "id": "f1f260d7-d5dd-4a8d-9487-1810d1d32646",
   "metadata": {},
   "outputs": [
    {
     "data": {
      "text/plain": [
       "55.82115939044481"
      ]
     },
     "execution_count": 207,
     "metadata": {},
     "output_type": "execute_result"
    }
   ],
   "source": [
    "pd.Series(mean_diff).quantile(0.025)"
   ]
  },
  {
   "cell_type": "markdown",
   "id": "d9f2d0c7-7dfe-4321-b1f7-c3881186425d",
   "metadata": {},
   "source": [
    "Ноль не вошел в доверительный интервал, что позволяет нам сделать вывод о наличии различий в сравниваемых результатах. И по всем графикам и описательным статитикам мы видим, что фактические результаты лучше случайных по вероятностям от букмекера"
   ]
  },
  {
   "cell_type": "markdown",
   "id": "ef9a24a6-ee6c-4996-b0a2-4109a510093d",
   "metadata": {},
   "source": [
    "### Подготовка данных для проверки второй гипотезы"
   ]
  },
  {
   "cell_type": "code",
   "execution_count": 210,
   "id": "2584ad5c-5206-49f8-ba7c-e818aad49885",
   "metadata": {},
   "outputs": [
    {
     "data": {
      "text/html": [
       "<div>\n",
       "<style scoped>\n",
       "    .dataframe tbody tr th:only-of-type {\n",
       "        vertical-align: middle;\n",
       "    }\n",
       "\n",
       "    .dataframe tbody tr th {\n",
       "        vertical-align: top;\n",
       "    }\n",
       "\n",
       "    .dataframe thead th {\n",
       "        text-align: right;\n",
       "    }\n",
       "</style>\n",
       "<table border=\"1\" class=\"dataframe\">\n",
       "  <thead>\n",
       "    <tr style=\"text-align: right;\">\n",
       "      <th></th>\n",
       "      <th>bet</th>\n",
       "      <th>date</th>\n",
       "      <th>sport</th>\n",
       "      <th>competition</th>\n",
       "      <th>twin</th>\n",
       "      <th>type1</th>\n",
       "      <th>type2</th>\n",
       "      <th>coef</th>\n",
       "      <th>result</th>\n",
       "      <th>win</th>\n",
       "      <th>prob</th>\n",
       "      <th>pot_win</th>\n",
       "      <th>win_random</th>\n",
       "      <th>sport_group</th>\n",
       "    </tr>\n",
       "  </thead>\n",
       "  <tbody>\n",
       "    <tr>\n",
       "      <th>0</th>\n",
       "      <td>1.0</td>\n",
       "      <td>2023-04-22</td>\n",
       "      <td>футбол</td>\n",
       "      <td>франция</td>\n",
       "      <td>1.0</td>\n",
       "      <td>ОЗ</td>\n",
       "      <td>прематч</td>\n",
       "      <td>2.81</td>\n",
       "      <td>0.0</td>\n",
       "      <td>-1000.0</td>\n",
       "      <td>0.305872</td>\n",
       "      <td>1810.0</td>\n",
       "      <td>1810.0</td>\n",
       "      <td>1</td>\n",
       "    </tr>\n",
       "    <tr>\n",
       "      <th>1</th>\n",
       "      <td>1.0</td>\n",
       "      <td>2023-04-22</td>\n",
       "      <td>хоккей</td>\n",
       "      <td>прочее</td>\n",
       "      <td>0.0</td>\n",
       "      <td>Результат</td>\n",
       "      <td>лайв</td>\n",
       "      <td>1.43</td>\n",
       "      <td>1.0</td>\n",
       "      <td>430.0</td>\n",
       "      <td>0.649301</td>\n",
       "      <td>430.0</td>\n",
       "      <td>430.0</td>\n",
       "      <td>2</td>\n",
       "    </tr>\n",
       "    <tr>\n",
       "      <th>2</th>\n",
       "      <td>1.0</td>\n",
       "      <td>2023-04-22</td>\n",
       "      <td>теннис</td>\n",
       "      <td>мужчины</td>\n",
       "      <td>0.0</td>\n",
       "      <td>Результат</td>\n",
       "      <td>лайв</td>\n",
       "      <td>2.11</td>\n",
       "      <td>1.0</td>\n",
       "      <td>1110.0</td>\n",
       "      <td>0.423934</td>\n",
       "      <td>1110.0</td>\n",
       "      <td>-1000.0</td>\n",
       "      <td>2</td>\n",
       "    </tr>\n",
       "    <tr>\n",
       "      <th>3</th>\n",
       "      <td>1.0</td>\n",
       "      <td>2023-04-22</td>\n",
       "      <td>хоккей</td>\n",
       "      <td>нхл - плоф</td>\n",
       "      <td>0.0</td>\n",
       "      <td>Результат</td>\n",
       "      <td>прематч</td>\n",
       "      <td>2.11</td>\n",
       "      <td>1.0</td>\n",
       "      <td>1110.0</td>\n",
       "      <td>0.423934</td>\n",
       "      <td>1110.0</td>\n",
       "      <td>1110.0</td>\n",
       "      <td>2</td>\n",
       "    </tr>\n",
       "    <tr>\n",
       "      <th>4</th>\n",
       "      <td>1.0</td>\n",
       "      <td>2023-04-22</td>\n",
       "      <td>футбол</td>\n",
       "      <td>Германия</td>\n",
       "      <td>0.0</td>\n",
       "      <td>Ауты</td>\n",
       "      <td>лайв</td>\n",
       "      <td>1.56</td>\n",
       "      <td>1.0</td>\n",
       "      <td>560.0</td>\n",
       "      <td>0.591026</td>\n",
       "      <td>560.0</td>\n",
       "      <td>-1000.0</td>\n",
       "      <td>1</td>\n",
       "    </tr>\n",
       "  </tbody>\n",
       "</table>\n",
       "</div>"
      ],
      "text/plain": [
       "   bet       date   sport competition  twin      type1    type2  coef  result  \\\n",
       "0  1.0 2023-04-22  футбол     франция   1.0         ОЗ  прематч  2.81     0.0   \n",
       "1  1.0 2023-04-22  хоккей      прочее   0.0  Результат     лайв  1.43     1.0   \n",
       "2  1.0 2023-04-22  теннис     мужчины   0.0  Результат     лайв  2.11     1.0   \n",
       "3  1.0 2023-04-22  хоккей  нхл - плоф   0.0  Результат  прематч  2.11     1.0   \n",
       "4  1.0 2023-04-22  футбол    Германия   0.0       Ауты     лайв  1.56     1.0   \n",
       "\n",
       "      win      prob  pot_win  win_random  sport_group  \n",
       "0 -1000.0  0.305872   1810.0      1810.0            1  \n",
       "1   430.0  0.649301    430.0       430.0            2  \n",
       "2  1110.0  0.423934   1110.0     -1000.0            2  \n",
       "3  1110.0  0.423934   1110.0      1110.0            2  \n",
       "4   560.0  0.591026    560.0     -1000.0            1  "
      ]
     },
     "execution_count": 210,
     "metadata": {},
     "output_type": "execute_result"
    }
   ],
   "source": [
    "# Создание колонки с разделением результатов на группы\n",
    "bets['sport_group'] = bets.apply(lambda row: 1 if row['sport'] == 'футбол' or row['sport'] == 'Футбол' else 2, axis=1)\n",
    "bets.head()"
   ]
  },
  {
   "cell_type": "markdown",
   "id": "b11b6798-88c9-4226-b511-69a36a6936cb",
   "metadata": {},
   "source": [
    "### Визуализация данных и сравнение данных"
   ]
  },
  {
   "cell_type": "code",
   "execution_count": 212,
   "id": "662c7e8b-9f74-493d-8dac-bd3cdd6d00e1",
   "metadata": {},
   "outputs": [
    {
     "data": {
      "text/plain": [
       "-353.0"
      ]
     },
     "execution_count": 212,
     "metadata": {},
     "output_type": "execute_result"
    }
   ],
   "source": [
    "bets.query('sport_group == 1').win.sum()"
   ]
  },
  {
   "cell_type": "code",
   "execution_count": 213,
   "id": "a2b689f5-e4e9-4116-b617-9480b9e0a807",
   "metadata": {},
   "outputs": [
    {
     "data": {
      "text/plain": [
       "17179.5"
      ]
     },
     "execution_count": 213,
     "metadata": {},
     "output_type": "execute_result"
    }
   ],
   "source": [
    "bets.query('sport_group == 2').win.sum()"
   ]
  },
  {
   "cell_type": "markdown",
   "id": "4f13455c-5865-46f2-aa75-85a4c6602f20",
   "metadata": {},
   "source": [
    "Результаты по футболу даже в небольшом минусе, весь влюс в других видах спорта"
   ]
  },
  {
   "cell_type": "code",
   "execution_count": 215,
   "id": "90e79e8e-55b1-4a6e-893f-d707ab421ae6",
   "metadata": {},
   "outputs": [
    {
     "data": {
      "text/plain": [
       "count    1012.000000\n",
       "mean       -0.348814\n",
       "std       805.218387\n",
       "min     -1200.000000\n",
       "25%     -1000.000000\n",
       "50%       375.000000\n",
       "75%       700.000000\n",
       "max      1640.000000\n",
       "Name: win, dtype: float64"
      ]
     },
     "execution_count": 215,
     "metadata": {},
     "output_type": "execute_result"
    }
   ],
   "source": [
    "bets.query('sport_group == 1').win.describe()"
   ]
  },
  {
   "cell_type": "code",
   "execution_count": 216,
   "id": "d9052261-469d-4df5-bbcf-fee4a4d1cac6",
   "metadata": {},
   "outputs": [
    {
     "data": {
      "text/plain": [
       "count     202.000000\n",
       "mean       85.047030\n",
       "std       877.478233\n",
       "min     -1000.000000\n",
       "25%     -1000.000000\n",
       "50%       467.000000\n",
       "75%       800.000000\n",
       "max      2900.000000\n",
       "Name: win, dtype: float64"
      ]
     },
     "execution_count": 216,
     "metadata": {},
     "output_type": "execute_result"
    }
   ],
   "source": [
    "bets.query('sport_group == 2').win.describe()"
   ]
  },
  {
   "cell_type": "code",
   "execution_count": 217,
   "id": "20893706-cbbf-40c4-94e4-c8516b18c409",
   "metadata": {},
   "outputs": [
    {
     "data": {
      "image/png": "[encoded data removed]",
      "text/plain": [
       "<Figure size 500x500 with 1 Axes>"
      ]
     },
     "metadata": {},
     "output_type": "display_data"
    }
   ],
   "source": [
    "sns.displot(data=bets.query('sport_group == 1').win)\n",
    "plt.show()"
   ]
  },
  {
   "cell_type": "code",
   "execution_count": 218,
   "id": "d582f381-2bdc-4ea0-99e1-e1a6b22bce36",
   "metadata": {},
   "outputs": [
    {
     "data": {
      "image/png": "[encoded data removed]",
      "text/plain": [
       "<Figure size 500x500 with 1 Axes>"
      ]
     },
     "metadata": {},
     "output_type": "display_data"
    }
   ],
   "source": [
    "sns.displot(data=bets.query('sport_group == 2').win)\n",
    "plt.show()"
   ]
  },
  {
   "cell_type": "markdown",
   "id": "a1fc4912-8c74-418d-80e1-6e02a1fca0fb",
   "metadata": {},
   "source": [
    "По графикам будто бы во второй группе ставок (не футбол) правый хвост с выгрышами относительно больше, но это сложно так оценить, тем более количество данных в каждой из групп разнится"
   ]
  },
  {
   "cell_type": "markdown",
   "id": "107b2e4a-9d83-4a3d-91c5-7102672aa5d1",
   "metadata": {},
   "source": [
    "### Выбор теста"
   ]
  },
  {
   "cell_type": "markdown",
   "id": "c500abb3-d34a-481c-9b7d-30ced37486b3",
   "metadata": {},
   "source": [
    "Здесь все аналогично: данные зависимы, а сравнивать будем средние. Bootstrap наш выбор"
   ]
  },
  {
   "cell_type": "markdown",
   "id": "7e24295d-fbbe-4ee4-a398-45dcb21adbc4",
   "metadata": {},
   "source": [
    "## Сравнение средних результатов по футболу с другими видами спорта"
   ]
  },
  {
   "cell_type": "code",
   "execution_count": 223,
   "id": "a942f02b-d1a6-4cf7-b65d-3952dd8aaff7",
   "metadata": {},
   "outputs": [],
   "source": [
    "mean_diff = []\n",
    "bets_footbal = bets.query('sport_group == 1').win\n",
    "bets_other = bets.query('sport_group == 2').win\n",
    "\n",
    "\n",
    "for i in range(10000):\n",
    "    sample_data_control = bets_footbal.sample(frac=1, replace=True)\n",
    "    sample_mean_control = sample_data_control.mean()\n",
    "    \n",
    "    \n",
    "    sample_data_exp = bets_other.sample(frac=1, replace=True)\n",
    "    sample_mean_exp = sample_data_exp.mean()\n",
    "    \n",
    "    sample_mean_diff = sample_mean_exp - sample_mean_control\n",
    "    mean_diff.append(sample_mean_diff)"
   ]
  },
  {
   "cell_type": "code",
   "execution_count": 224,
   "id": "b3b2b09c-898b-4814-a77c-8cdaffeb1f16",
   "metadata": {},
   "outputs": [
    {
     "data": {
      "image/png": "[encoded data removed]",
      "text/plain": [
       "<Figure size 500x500 with 1 Axes>"
      ]
     },
     "metadata": {},
     "output_type": "display_data"
    }
   ],
   "source": [
    "sns.displot(mean_diff)\n",
    "plt.show()"
   ]
  },
  {
   "cell_type": "code",
   "execution_count": 225,
   "id": "010c668c-e7e8-4987-a52e-ab6975587117",
   "metadata": {},
   "outputs": [
    {
     "data": {
      "text/plain": [
       "214.5185758521504"
      ]
     },
     "execution_count": 225,
     "metadata": {},
     "output_type": "execute_result"
    }
   ],
   "source": [
    "pd.Series(mean_diff).quantile(0.975)"
   ]
  },
  {
   "cell_type": "code",
   "execution_count": 226,
   "id": "6d2b23e4-5295-47a3-9097-c2851fd229a5",
   "metadata": {},
   "outputs": [
    {
     "data": {
      "text/plain": [
       "-45.03319375415801"
      ]
     },
     "execution_count": 226,
     "metadata": {},
     "output_type": "execute_result"
    }
   ],
   "source": [
    "pd.Series(mean_diff).quantile(0.025)"
   ]
  },
  {
   "cell_type": "markdown",
   "id": "3e3fd4e6-5434-4887-a352-eb0c997cb662",
   "metadata": {},
   "source": [
    "Ноль вошел в доверительный интервала, что значит, что мы принимаем нулевую гипотезу о равенстве средних в двух группах ставок. Хотя по графикам мы видим, что результаты по другим видам спорта выглядят лучше, чем по футболу, но этого недостаточно, чтобы сделать вывод о том, что стоит заниматься только ими"
   ]
  },
  {
   "cell_type": "markdown",
   "id": "0b5a89e9-e4f5-4c55-88a7-74d914f7c164",
   "metadata": {},
   "source": [
    "# Выводы"
   ]
  },
  {
   "cell_type": "markdown",
   "id": "e610277c-6c6c-488b-963f-451a0a886599",
   "metadata": {},
   "source": [
    "1. Резльутаты по пари по проводиму предварительному анализу коэффициентов лучше, чем ожидаемый случайный результат согласно выставленным коэффициентам\n",
    "2. Данные не позволяют сделать вывод о том, что стваки на футбол даются хуже, чем на остальные виды спорта"
   ]
  },
  {
   "cell_type": "markdown",
   "id": "ef7b55dc-a528-44ae-b8a2-f5e5ebca9afe",
   "metadata": {},
   "source": [
    "### Что еще можно было бы сделать"
   ]
  },
  {
   "cell_type": "markdown",
   "id": "2ec5523a-ae58-4ba2-bb93-b414d26fba31",
   "metadata": {},
   "source": [
    "1. Сравнить футбол не с остальными видами спорта, а все виды спорта между собой, отбросив те, где мало значений\n",
    "2. Сравнить ставки по остальным колонкам данных (ставки во время мероприятия или заранее, ставки единичные или парой, по типам ставок внутри каждого спорта, анализ ставок по времени (сезонность и просиходит ли улучшение результатов со временем)\n",
    "3. Но такое количество анализов обязательно привело бы к нахождению ошибочных значимых различий и требовало бы использования доп поправок на это. Я посмотрел самые интересные для себя пункты: сравнение результатов со случайным и футбола с остальным, что вызывало у меня вопросы в процессе сбора данных и занятия этим делом)"
   ]
  }
 ],
 "metadata": {
  "kernelspec": {
   "display_name": "Python [conda env:base] *",
   "language": "python",
   "name": "conda-base-py"
  },
  "language_info": {
   "codemirror_mode": {
    "name": "ipython",
    "version": 3
   },
   "file_extension": ".py",
   "mimetype": "text/x-python",
   "name": "python",
   "nbconvert_exporter": "python",
   "pygments_lexer": "ipython3",
   "version": "3.12.7"
  }
 },
 "nbformat": 4,
 "nbformat_minor": 5
}
